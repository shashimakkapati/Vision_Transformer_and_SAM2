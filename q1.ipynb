{
  "nbformat": 4,
  "nbformat_minor": 0,
  "metadata": {
    "colab": {
      "provenance": [],
      "gpuType": "T4"
    },
    "kernelspec": {
      "name": "python3",
      "display_name": "Python 3"
    },
    "language_info": {
      "name": "python"
    },
    "accelerator": "GPU"
  },
  "cells": [
    {
      "cell_type": "code",
      "execution_count": 12,
      "metadata": {
        "id": "T9ceaH9BT3Fv"
      },
      "outputs": [],
      "source": [
        "import torch\n",
        "from torchvision import datasets,transforms\n",
        "from torch.utils.data import DataLoader\n",
        "\n",
        "\n",
        "\n"
      ]
    },
    {
      "cell_type": "code",
      "source": [
        "trainset_plain=datasets.CIFAR10(root='./data',train=True,download=True,transform=transforms.ToTensor())\n",
        "loader=DataLoader(trainset_plain,batch_size=50000,shuffle=False,num_workers=2)\n",
        "data_iter=iter(loader)\n",
        "images,labels=next(data_iter)\n",
        "mean=images.mean(dim=[0,2,3])\n",
        "std=images.std(dim=[0,2,3])\n",
        "print('mean',mean,'std',std)"
      ],
      "metadata": {
        "colab": {
          "base_uri": "https://localhost:8080/"
        },
        "id": "tdtGfTRbWFQx",
        "outputId": "594b8b2c-13a9-4b69-8812-46ac51cfba5d"
      },
      "execution_count": 13,
      "outputs": [
        {
          "output_type": "stream",
          "name": "stdout",
          "text": [
            "mean tensor([0.4914, 0.4822, 0.4465]) std tensor([0.2470, 0.2435, 0.2616])\n"
          ]
        }
      ]
    },
    {
      "cell_type": "code",
      "source": [
        "train_transform=transforms.Compose([\n",
        "    transforms.RandomCrop(32,padding=4),\n",
        "    transforms.RandomHorizontalFlip(),\n",
        "    transforms.ToTensor(),\n",
        "    transforms.Normalize(mean,std)\n",
        "])\n",
        "\n",
        "test_transform=transforms.Compose([\n",
        "    transforms.ToTensor(),\n",
        "    transforms.Normalize(mean,std)\n",
        "])\n",
        "\n",
        "trainset=datasets.CIFAR10(root='./data',train=True,download=False,transform=train_transform)\n",
        "testset=datasets.CIFAR10(root='./data',train=False,download=True,transform=test_transform)\n",
        "\n",
        "train_loader=DataLoader(trainset,batch_size=128,shuffle=True,num_workers=2)\n",
        "test_loader=DataLoader(testset,batch_size=128,shuffle=False,num_workers=2)\n",
        "\n",
        "print(len(trainset),len(testset))\n"
      ],
      "metadata": {
        "id": "zTy924egWCtD",
        "colab": {
          "base_uri": "https://localhost:8080/"
        },
        "outputId": "9ace4848-5407-4a62-9382-9c72d30cb811"
      },
      "execution_count": 14,
      "outputs": [
        {
          "output_type": "stream",
          "name": "stdout",
          "text": [
            "50000 10000\n"
          ]
        }
      ]
    },
    {
      "cell_type": "code",
      "source": [
        "import torch\n",
        "import torch.nn as nn\n",
        "import torch.nn.functional as F\n",
        "\n",
        "class PatchEmbed(nn.Module):\n",
        "    def __init__(self,img_size=32,patch_size=4,in_chans=3,embed_dim=192):\n",
        "        super().__init__()\n",
        "        self.img_size=img_size\n",
        "        self.patch_size=patch_size\n",
        "        self.embed_dim=embed_dim\n",
        "        self.grid_size=img_size//patch_size\n",
        "        self.num_patches=self.grid_size*self.grid_size\n",
        "        self.proj=nn.Conv2d(in_chans,embed_dim,patch_size,patch_size)\n",
        "    def forward(self,x):\n",
        "        x=self.proj(x)\n",
        "        x=x.flatten(2).transpose(1,2) #[batch, seq_len=64, embed_dim=192] transformer expects this\n",
        "        return x\n",
        "\n",
        "class ResidualConnection(nn.Module):\n",
        "    def __init__(self,fn):\n",
        "        super().__init__()\n",
        "        self.fn=fn\n",
        "    def forward(self,x):\n",
        "        return x+self.fn(x)\n",
        "\n",
        "class MHSA(nn.Module):\n",
        "    def __init__(self,embed_dim,num_heads=12,attn_dropout=0.1,proj_dropout=0.1): #according to wu et al\n",
        "        super().__init__()\n",
        "        self.num_heads=num_heads #12\n",
        "        self.head_dim=embed_dim//num_heads\n",
        "        self.scale=self.head_dim**-0.5\n",
        "        self.qkv=nn.Linear(embed_dim,embed_dim*3) # qkv at a time\n",
        "        self.attn_drop=nn.Dropout(attn_dropout)\n",
        "        self.proj=nn.Linear(embed_dim,embed_dim)\n",
        "        self.proj_drop=nn.Dropout(proj_dropout)\n",
        "    def forward(self,x):\n",
        "        B,N,C=x.shape\n",
        "        qkv=self.qkv(x).reshape(B,N,3,self.num_heads,self.head_dim).permute(2,0,3,1,4) #(B, N, 3*C) to (B, N, 3, num_heads, head_dim) to (3, B, num_heads, N, head_dim)\n",
        "\n",
        "        q,k,v=qkv[0],qkv[1],qkv[2]\n",
        "        attn=(q@k.transpose(-2,-1))*self.scale\n",
        "        attn=attn.softmax(dim=-1)\n",
        "        attn=self.attn_drop(attn)\n",
        "        x=(attn@v).transpose(1,2).reshape(B,N,C) # back into embedding space\n",
        "        x=self.proj(x)\n",
        "        x=self.proj_drop(x)\n",
        "        return x\n",
        "\n",
        "class MLP(nn.Module):\n",
        "    def __init__(self,embed_dim,mlp_ratio=4,drop=0.1):\n",
        "        super().__init__()\n",
        "        self.fc1=nn.Linear(embed_dim,embed_dim*mlp_ratio)\n",
        "        self.fc2=nn.Linear(embed_dim*mlp_ratio,embed_dim)\n",
        "        self.act=nn.GELU()\n",
        "        self.drop=nn.Dropout(drop)\n",
        "    def forward(self,x):\n",
        "        x=self.fc1(x)\n",
        "        x=self.act(x)\n",
        "        x=self.drop(x)\n",
        "        x=self.fc2(x)\n",
        "        x=self.drop(x) # each dropout call in independent\n",
        "        return x\n",
        "\n",
        "class Block(nn.Module):\n",
        "    def __init__(self,embed_dim,num_heads=12,mlp_ratio=4,drop=0.1):\n",
        "        super().__init__()\n",
        "        self.norm1=nn.LayerNorm(embed_dim)\n",
        "        self.attn=MHSA(embed_dim,num_heads,drop,drop)\n",
        "        self.res1=ResidualConnection(lambda x:self.attn(self.norm1(x)))\n",
        "        self.norm2=nn.LayerNorm(embed_dim)\n",
        "        self.mlp=MLP(embed_dim,mlp_ratio,drop)\n",
        "        self.res2=ResidualConnection(lambda x:self.mlp(self.norm2(x)))\n",
        "    def forward(self,x):\n",
        "        x=self.res1(x)\n",
        "        x=self.res2(x)\n",
        "        return x\n",
        "\n",
        "class ViT(nn.Module):\n",
        "    def __init__(self,img_size=32,patch_size=4,in_chans=3,embed_dim=192,num_classes=10,depth=12,num_heads=12,mlp_ratio=4,drop=0.1):\n",
        "        super().__init__()\n",
        "        self.patch_embed=PatchEmbed(img_size,patch_size,in_chans,embed_dim)\n",
        "        self.cls_token = nn.Parameter(torch.empty(1,1,embed_dim))\n",
        "        nn.init.trunc_normal_(self.cls_token, mean=0.0, std=0.02) # as implemented in the ViT paper\n",
        "\n",
        "        self.pos_embed = nn.Parameter(torch.empty(1, 1+self.patch_embed.num_patches, embed_dim))\n",
        "        nn.init.trunc_normal_(self.pos_embed, std=0.02)\n",
        "\n",
        "        self.pos_drop=nn.Dropout(drop)\n",
        "        self.blocks=nn.ModuleList([Block(embed_dim,num_heads,mlp_ratio,drop) for _ in range(depth)])\n",
        "        self.norm=nn.LayerNorm(embed_dim)\n",
        "        self.head=nn.Linear(embed_dim,num_classes)\n",
        "    def forward(self,x):\n",
        "        B=x.shape[0]\n",
        "        x=self.patch_embed(x)\n",
        "        cls_tokens=self.cls_token.expand(B,-1,-1) #(B, 1, embed_dim)\n",
        "        x=torch.cat((cls_tokens,x),dim=1)\n",
        "        x=x+self.pos_embed\n",
        "        x=self.pos_drop(x)\n",
        "        for blk in self.blocks:\n",
        "            x=blk(x)\n",
        "        x=self.norm(x)\n",
        "        cls_out=x[:,0]\n",
        "        x=self.head(cls_out)\n",
        "        return x\n",
        "\n",
        "model=ViT()\n",
        "sample_images, _=next(iter(train_loader))\n",
        "sample_images=sample_images[:2]\n",
        "out=model(sample_images)\n",
        "print(out.shape)\n"
      ],
      "metadata": {
        "id": "cjdiky4ji41i",
        "colab": {
          "base_uri": "https://localhost:8080/"
        },
        "outputId": "b3236276-8f18-4e0a-9a8b-a09aa2ca7342"
      },
      "execution_count": 23,
      "outputs": [
        {
          "output_type": "stream",
          "name": "stdout",
          "text": [
            "torch.Size([2, 10])\n"
          ]
        }
      ]
    },
    {
      "cell_type": "code",
      "source": [
        "import torch\n",
        "import torch.nn as nn\n",
        "import torch.optim as optim\n",
        "from tqdm import tqdm\n",
        "\n",
        "\n",
        "device = 'cuda' if torch.cuda.is_available() else 'cpu'\n",
        "model = ViT().to(device)\n",
        "scaler = torch.amp.GradScaler()\n",
        "\n",
        "class LabelSmoothingCrossEntropy(nn.Module):\n",
        "    def __init__(self,smoothing=0.1):\n",
        "        super().__init__()\n",
        "        self.smoothing=smoothing\n",
        "        self.confidence=1.0-smoothing\n",
        "    def forward(self,pred,target):\n",
        "        logprobs=nn.functional.log_softmax(pred,dim=-1)\n",
        "        nll_loss=-logprobs.gather(dim=-1,index=target.unsqueeze(1)).squeeze(1)\n",
        "        smooth_loss=-logprobs.mean(dim=-1)\n",
        "        loss=self.confidence*nll_loss+self.smoothing*smooth_loss\n",
        "        return loss.mean()\n",
        "\n",
        "criterion=LabelSmoothingCrossEntropy(0.1)\n",
        "optimizer=optim.AdamW(model.parameters(),lr=3e-4,weight_decay=0.05)\n",
        "T_max=200\n",
        "scheduler=optim.lr_scheduler.CosineAnnealingLR(optimizer,T_max=T_max)\n",
        "warmup_epochs=10\n",
        "initial_lr=3e-5\n",
        "\n",
        "epochs=50\n",
        "\n",
        "for epoch in range(epochs):\n",
        "    model.train()\n",
        "    loop=tqdm(train_loader)\n",
        "    running_loss=0\n",
        "    correct=0\n",
        "    total=0\n",
        "    if epoch<warmup_epochs:\n",
        "        lr=initial_lr+(3e-4-initial_lr)*(epoch/warmup_epochs)\n",
        "        for g in optimizer.param_groups:\n",
        "            g['lr']=lr\n",
        "    for imgs,labels in loop:\n",
        "        imgs,labels=imgs.to(device),labels.to(device)\n",
        "        optimizer.zero_grad()\n",
        "        with torch.cuda.amp.autocast():\n",
        "            outputs=model(imgs)\n",
        "            loss=criterion(outputs,labels)\n",
        "        scaler.scale(loss).backward()\n",
        "        scaler.unscale_(optimizer)\n",
        "        torch.nn.utils.clip_grad_norm_(model.parameters(),1.0)\n",
        "        scaler.step(optimizer)\n",
        "        scaler.update()\n",
        "        running_loss+=loss.item()*imgs.size(0)\n",
        "        _,preds=outputs.max(1)\n",
        "        correct+=preds.eq(labels).sum().item()\n",
        "        total+=labels.size(0)\n",
        "        loop.set_description(f\"Epoch [{epoch+1}/{epochs}]\")\n",
        "        loop.set_postfix(loss=running_loss/total,acc=100*correct/total)\n",
        "    if epoch>=warmup_epochs:\n",
        "        scheduler.step()\n",
        "    model.eval()\n",
        "    test_loss=0\n",
        "    correct=0\n",
        "    total=0\n",
        "    with torch.no_grad():\n",
        "        for imgs,labels in test_loader:\n",
        "            imgs,labels=imgs.to(device),labels.to(device)\n",
        "            with torch.cuda.amp.autocast():\n",
        "                outputs=model(imgs)\n",
        "                loss=criterion(outputs,labels)\n",
        "            test_loss+=loss.item()*imgs.size(0)\n",
        "            _,preds=outputs.max(1)\n",
        "            correct+=preds.eq(labels).sum().item()\n",
        "            total+=labels.size(0)\n",
        "    print(f\"Test Loss:{test_loss/total:.4f} Test Acc:{100*correct/total:.2f}%\")\n"
      ],
      "metadata": {
        "id": "xm9VB2_DJ-ul",
        "colab": {
          "base_uri": "https://localhost:8080/"
        },
        "outputId": "8bc712ea-550e-413d-86d4-637e38efce9c"
      },
      "execution_count": 24,
      "outputs": [
        {
          "metadata": {
            "tags": null
          },
          "name": "stderr",
          "output_type": "stream",
          "text": [
            "  0%|          | 0/391 [00:00<?, ?it/s]/tmp/ipython-input-3981880474.py:45: FutureWarning: `torch.cuda.amp.autocast(args...)` is deprecated. Please use `torch.amp.autocast('cuda', args...)` instead.\n",
            "  with torch.cuda.amp.autocast():\n",
            "Epoch [1/50]: 100%|██████████| 391/391 [00:44<00:00,  8.87it/s, acc=29, loss=1.99]\n",
            "/tmp/ipython-input-3981880474.py:68: FutureWarning: `torch.cuda.amp.autocast(args...)` is deprecated. Please use `torch.amp.autocast('cuda', args...)` instead.\n",
            "  with torch.cuda.amp.autocast():\n"
          ]
        },
        {
          "metadata": {
            "tags": null
          },
          "name": "stdout",
          "output_type": "stream",
          "text": [
            "Test Loss:1.9496 Test Acc:33.19%\n"
          ]
        },
        {
          "metadata": {
            "tags": null
          },
          "name": "stderr",
          "output_type": "stream",
          "text": [
            "Epoch [2/50]: 100%|██████████| 391/391 [00:43<00:00,  9.07it/s, acc=35.4, loss=1.86]\n"
          ]
        },
        {
          "metadata": {
            "tags": null
          },
          "name": "stdout",
          "output_type": "stream",
          "text": [
            "Test Loss:1.9301 Test Acc:33.97%\n"
          ]
        },
        {
          "metadata": {
            "tags": null
          },
          "name": "stderr",
          "output_type": "stream",
          "text": [
            "Epoch [3/50]: 100%|██████████| 391/391 [00:43<00:00,  8.96it/s, acc=41.2, loss=1.75]\n"
          ]
        },
        {
          "metadata": {
            "tags": null
          },
          "name": "stdout",
          "output_type": "stream",
          "text": [
            "Test Loss:1.7821 Test Acc:42.39%\n"
          ]
        },
        {
          "metadata": {
            "tags": null
          },
          "name": "stderr",
          "output_type": "stream",
          "text": [
            "Epoch [4/50]: 100%|██████████| 391/391 [00:43<00:00,  9.07it/s, acc=46, loss=1.65]\n"
          ]
        },
        {
          "metadata": {
            "tags": null
          },
          "name": "stdout",
          "output_type": "stream",
          "text": [
            "Test Loss:1.6820 Test Acc:45.41%\n"
          ]
        },
        {
          "metadata": {
            "tags": null
          },
          "name": "stderr",
          "output_type": "stream",
          "text": [
            "Epoch [5/50]: 100%|██████████| 391/391 [00:43<00:00,  9.04it/s, acc=49.8, loss=1.58]\n"
          ]
        },
        {
          "metadata": {
            "tags": null
          },
          "name": "stdout",
          "output_type": "stream",
          "text": [
            "Test Loss:1.5936 Test Acc:50.12%\n"
          ]
        },
        {
          "metadata": {
            "tags": null
          },
          "name": "stderr",
          "output_type": "stream",
          "text": [
            "Epoch [6/50]: 100%|██████████| 391/391 [00:43<00:00,  8.93it/s, acc=53.1, loss=1.51]\n"
          ]
        },
        {
          "metadata": {
            "tags": null
          },
          "name": "stdout",
          "output_type": "stream",
          "text": [
            "Test Loss:1.4433 Test Acc:56.31%\n"
          ]
        },
        {
          "metadata": {
            "tags": null
          },
          "name": "stderr",
          "output_type": "stream",
          "text": [
            "Epoch [7/50]: 100%|██████████| 391/391 [00:43<00:00,  9.07it/s, acc=56.2, loss=1.45]\n"
          ]
        },
        {
          "metadata": {
            "tags": null
          },
          "name": "stdout",
          "output_type": "stream",
          "text": [
            "Test Loss:1.4025 Test Acc:58.86%\n"
          ]
        },
        {
          "metadata": {
            "tags": null
          },
          "name": "stderr",
          "output_type": "stream",
          "text": [
            "Epoch [8/50]: 100%|██████████| 391/391 [00:43<00:00,  9.05it/s, acc=58.2, loss=1.4]\n"
          ]
        },
        {
          "metadata": {
            "tags": null
          },
          "name": "stdout",
          "output_type": "stream",
          "text": [
            "Test Loss:1.3900 Test Acc:59.18%\n"
          ]
        },
        {
          "metadata": {
            "tags": null
          },
          "name": "stderr",
          "output_type": "stream",
          "text": [
            "Epoch [9/50]: 100%|██████████| 391/391 [00:43<00:00,  9.01it/s, acc=60.6, loss=1.36]\n"
          ]
        },
        {
          "metadata": {
            "tags": null
          },
          "name": "stdout",
          "output_type": "stream",
          "text": [
            "Test Loss:1.3058 Test Acc:63.09%\n"
          ]
        },
        {
          "metadata": {
            "tags": null
          },
          "name": "stderr",
          "output_type": "stream",
          "text": [
            "Epoch [10/50]: 100%|██████████| 391/391 [00:43<00:00,  9.02it/s, acc=62.3, loss=1.32]\n"
          ]
        },
        {
          "metadata": {
            "tags": null
          },
          "name": "stdout",
          "output_type": "stream",
          "text": [
            "Test Loss:1.2610 Test Acc:64.29%\n"
          ]
        },
        {
          "metadata": {
            "tags": null
          },
          "name": "stderr",
          "output_type": "stream",
          "text": [
            "Epoch [11/50]: 100%|██████████| 391/391 [00:44<00:00,  8.88it/s, acc=64.7, loss=1.27]\n"
          ]
        },
        {
          "metadata": {
            "tags": null
          },
          "name": "stdout",
          "output_type": "stream",
          "text": [
            "Test Loss:1.2414 Test Acc:66.14%\n"
          ]
        },
        {
          "metadata": {
            "tags": null
          },
          "name": "stderr",
          "output_type": "stream",
          "text": [
            "Epoch [12/50]: 100%|██████████| 391/391 [00:43<00:00,  9.03it/s, acc=66.7, loss=1.23]\n"
          ]
        },
        {
          "metadata": {
            "tags": null
          },
          "name": "stdout",
          "output_type": "stream",
          "text": [
            "Test Loss:1.2131 Test Acc:68.81%\n"
          ]
        },
        {
          "metadata": {
            "tags": null
          },
          "name": "stderr",
          "output_type": "stream",
          "text": [
            "Epoch [13/50]: 100%|██████████| 391/391 [00:43<00:00,  8.93it/s, acc=68, loss=1.2]\n"
          ]
        },
        {
          "metadata": {
            "tags": null
          },
          "name": "stdout",
          "output_type": "stream",
          "text": [
            "Test Loss:1.1725 Test Acc:69.35%\n"
          ]
        },
        {
          "metadata": {
            "tags": null
          },
          "name": "stderr",
          "output_type": "stream",
          "text": [
            "Epoch [14/50]: 100%|██████████| 391/391 [00:43<00:00,  8.93it/s, acc=69.5, loss=1.17]\n"
          ]
        },
        {
          "metadata": {
            "tags": null
          },
          "name": "stdout",
          "output_type": "stream",
          "text": [
            "Test Loss:1.1305 Test Acc:71.51%\n"
          ]
        },
        {
          "metadata": {
            "tags": null
          },
          "name": "stderr",
          "output_type": "stream",
          "text": [
            "Epoch [15/50]: 100%|██████████| 391/391 [00:43<00:00,  9.06it/s, acc=70.9, loss=1.14]\n"
          ]
        },
        {
          "metadata": {
            "tags": null
          },
          "name": "stdout",
          "output_type": "stream",
          "text": [
            "Test Loss:1.1059 Test Acc:72.07%\n"
          ]
        },
        {
          "metadata": {
            "tags": null
          },
          "name": "stderr",
          "output_type": "stream",
          "text": [
            "Epoch [16/50]: 100%|██████████| 391/391 [00:44<00:00,  8.85it/s, acc=71.9, loss=1.12]\n"
          ]
        },
        {
          "metadata": {
            "tags": null
          },
          "name": "stdout",
          "output_type": "stream",
          "text": [
            "Test Loss:1.0949 Test Acc:73.18%\n"
          ]
        },
        {
          "metadata": {
            "tags": null
          },
          "name": "stderr",
          "output_type": "stream",
          "text": [
            "Epoch [17/50]: 100%|██████████| 391/391 [00:43<00:00,  9.01it/s, acc=73, loss=1.09]\n"
          ]
        },
        {
          "metadata": {
            "tags": null
          },
          "name": "stdout",
          "output_type": "stream",
          "text": [
            "Test Loss:1.0881 Test Acc:73.78%\n"
          ]
        },
        {
          "metadata": {
            "tags": null
          },
          "name": "stderr",
          "output_type": "stream",
          "text": [
            "Epoch [18/50]: 100%|██████████| 391/391 [00:43<00:00,  9.03it/s, acc=73.9, loss=1.08]\n"
          ]
        },
        {
          "metadata": {
            "tags": null
          },
          "name": "stdout",
          "output_type": "stream",
          "text": [
            "Test Loss:1.0761 Test Acc:73.93%\n"
          ]
        },
        {
          "metadata": {
            "tags": null
          },
          "name": "stderr",
          "output_type": "stream",
          "text": [
            "Epoch [19/50]: 100%|██████████| 391/391 [00:43<00:00,  8.89it/s, acc=74.9, loss=1.06]\n"
          ]
        },
        {
          "metadata": {
            "tags": null
          },
          "name": "stdout",
          "output_type": "stream",
          "text": [
            "Test Loss:1.0376 Test Acc:75.69%\n"
          ]
        },
        {
          "metadata": {
            "tags": null
          },
          "name": "stderr",
          "output_type": "stream",
          "text": [
            "Epoch [20/50]: 100%|██████████| 391/391 [00:43<00:00,  9.07it/s, acc=75.8, loss=1.04]\n"
          ]
        },
        {
          "metadata": {
            "tags": null
          },
          "name": "stdout",
          "output_type": "stream",
          "text": [
            "Test Loss:1.0577 Test Acc:74.90%\n"
          ]
        },
        {
          "metadata": {
            "tags": null
          },
          "name": "stderr",
          "output_type": "stream",
          "text": [
            "Epoch [21/50]: 100%|██████████| 391/391 [00:43<00:00,  9.03it/s, acc=76.3, loss=1.03]\n"
          ]
        },
        {
          "metadata": {
            "tags": null
          },
          "name": "stdout",
          "output_type": "stream",
          "text": [
            "Test Loss:1.0802 Test Acc:74.30%\n"
          ]
        },
        {
          "metadata": {
            "tags": null
          },
          "name": "stderr",
          "output_type": "stream",
          "text": [
            "Epoch [22/50]: 100%|██████████| 391/391 [00:43<00:00,  9.04it/s, acc=76.9, loss=1.01]\n"
          ]
        },
        {
          "metadata": {
            "tags": null
          },
          "name": "stdout",
          "output_type": "stream",
          "text": [
            "Test Loss:0.9972 Test Acc:77.77%\n"
          ]
        },
        {
          "metadata": {
            "tags": null
          },
          "name": "stderr",
          "output_type": "stream",
          "text": [
            "Epoch [23/50]: 100%|██████████| 391/391 [00:43<00:00,  9.05it/s, acc=77.8, loss=0.993]\n"
          ]
        },
        {
          "metadata": {
            "tags": null
          },
          "name": "stdout",
          "output_type": "stream",
          "text": [
            "Test Loss:1.0112 Test Acc:77.48%\n"
          ]
        },
        {
          "metadata": {
            "tags": null
          },
          "name": "stderr",
          "output_type": "stream",
          "text": [
            "Epoch [24/50]: 100%|██████████| 391/391 [00:43<00:00,  8.90it/s, acc=78.3, loss=0.976]\n"
          ]
        },
        {
          "metadata": {
            "tags": null
          },
          "name": "stdout",
          "output_type": "stream",
          "text": [
            "Test Loss:1.0089 Test Acc:77.17%\n"
          ]
        },
        {
          "metadata": {
            "tags": null
          },
          "name": "stderr",
          "output_type": "stream",
          "text": [
            "Epoch [25/50]: 100%|██████████| 391/391 [00:44<00:00,  8.87it/s, acc=78.7, loss=0.969]\n"
          ]
        },
        {
          "metadata": {
            "tags": null
          },
          "name": "stdout",
          "output_type": "stream",
          "text": [
            "Test Loss:1.0342 Test Acc:76.03%\n"
          ]
        },
        {
          "metadata": {
            "tags": null
          },
          "name": "stderr",
          "output_type": "stream",
          "text": [
            "Epoch [26/50]: 100%|██████████| 391/391 [00:43<00:00,  8.96it/s, acc=79.4, loss=0.955]\n"
          ]
        },
        {
          "metadata": {
            "tags": null
          },
          "name": "stdout",
          "output_type": "stream",
          "text": [
            "Test Loss:0.9989 Test Acc:78.03%\n"
          ]
        },
        {
          "metadata": {
            "tags": null
          },
          "name": "stderr",
          "output_type": "stream",
          "text": [
            "Epoch [27/50]: 100%|██████████| 391/391 [00:44<00:00,  8.89it/s, acc=80, loss=0.946]\n"
          ]
        },
        {
          "metadata": {
            "tags": null
          },
          "name": "stdout",
          "output_type": "stream",
          "text": [
            "Test Loss:1.0390 Test Acc:76.76%\n"
          ]
        },
        {
          "metadata": {
            "tags": null
          },
          "name": "stderr",
          "output_type": "stream",
          "text": [
            "Epoch [28/50]: 100%|██████████| 391/391 [00:42<00:00,  9.10it/s, acc=80.4, loss=0.934]\n"
          ]
        },
        {
          "metadata": {
            "tags": null
          },
          "name": "stdout",
          "output_type": "stream",
          "text": [
            "Test Loss:0.9946 Test Acc:78.62%\n"
          ]
        },
        {
          "metadata": {
            "tags": null
          },
          "name": "stderr",
          "output_type": "stream",
          "text": [
            "Epoch [29/50]: 100%|██████████| 391/391 [00:43<00:00,  8.99it/s, acc=81, loss=0.92]\n"
          ]
        },
        {
          "metadata": {
            "tags": null
          },
          "name": "stdout",
          "output_type": "stream",
          "text": [
            "Test Loss:0.9784 Test Acc:79.06%\n"
          ]
        },
        {
          "output_type": "stream",
          "name": "stderr",
          "text": [
            "Epoch [30/50]: 100%|██████████| 391/391 [00:43<00:00,  8.89it/s, acc=81.5, loss=0.91]\n"
          ]
        },
        {
          "output_type": "stream",
          "name": "stdout",
          "text": [
            "Test Loss:0.9733 Test Acc:79.00%\n"
          ]
        },
        {
          "output_type": "stream",
          "name": "stderr",
          "text": [
            "Epoch [31/50]: 100%|██████████| 391/391 [00:44<00:00,  8.87it/s, acc=81.9, loss=0.903]\n"
          ]
        },
        {
          "output_type": "stream",
          "name": "stdout",
          "text": [
            "Test Loss:0.9617 Test Acc:79.69%\n"
          ]
        },
        {
          "output_type": "stream",
          "name": "stderr",
          "text": [
            "Epoch [32/50]: 100%|██████████| 391/391 [00:43<00:00,  8.93it/s, acc=82.3, loss=0.893]\n"
          ]
        },
        {
          "output_type": "stream",
          "name": "stdout",
          "text": [
            "Test Loss:0.9440 Test Acc:80.56%\n"
          ]
        },
        {
          "output_type": "stream",
          "name": "stderr",
          "text": [
            "Epoch [33/50]: 100%|██████████| 391/391 [00:44<00:00,  8.81it/s, acc=83, loss=0.879]\n"
          ]
        },
        {
          "output_type": "stream",
          "name": "stdout",
          "text": [
            "Test Loss:0.9736 Test Acc:79.35%\n"
          ]
        },
        {
          "output_type": "stream",
          "name": "stderr",
          "text": [
            "Epoch [34/50]: 100%|██████████| 391/391 [00:43<00:00,  8.92it/s, acc=83.3, loss=0.869]\n"
          ]
        },
        {
          "output_type": "stream",
          "name": "stdout",
          "text": [
            "Test Loss:0.9470 Test Acc:80.65%\n"
          ]
        },
        {
          "output_type": "stream",
          "name": "stderr",
          "text": [
            "Epoch [35/50]: 100%|██████████| 391/391 [00:43<00:00,  8.89it/s, acc=83.7, loss=0.861]\n"
          ]
        },
        {
          "output_type": "stream",
          "name": "stdout",
          "text": [
            "Test Loss:0.9461 Test Acc:80.86%\n"
          ]
        },
        {
          "output_type": "stream",
          "name": "stderr",
          "text": [
            "Epoch [36/50]: 100%|██████████| 391/391 [00:44<00:00,  8.72it/s, acc=84.3, loss=0.85]\n"
          ]
        },
        {
          "output_type": "stream",
          "name": "stdout",
          "text": [
            "Test Loss:0.9586 Test Acc:79.70%\n"
          ]
        },
        {
          "output_type": "stream",
          "name": "stderr",
          "text": [
            "Epoch [37/50]: 100%|██████████| 391/391 [00:44<00:00,  8.69it/s, acc=84.4, loss=0.845]\n"
          ]
        },
        {
          "output_type": "stream",
          "name": "stdout",
          "text": [
            "Test Loss:0.9392 Test Acc:81.19%\n"
          ]
        },
        {
          "output_type": "stream",
          "name": "stderr",
          "text": [
            "Epoch [38/50]: 100%|██████████| 391/391 [00:44<00:00,  8.80it/s, acc=85, loss=0.831]\n"
          ]
        },
        {
          "output_type": "stream",
          "name": "stdout",
          "text": [
            "Test Loss:0.9761 Test Acc:79.99%\n"
          ]
        },
        {
          "output_type": "stream",
          "name": "stderr",
          "text": [
            "Epoch [39/50]: 100%|██████████| 391/391 [00:44<00:00,  8.84it/s, acc=85.3, loss=0.823]\n"
          ]
        },
        {
          "output_type": "stream",
          "name": "stdout",
          "text": [
            "Test Loss:0.9391 Test Acc:81.13%\n"
          ]
        },
        {
          "output_type": "stream",
          "name": "stderr",
          "text": [
            "Epoch [40/50]: 100%|██████████| 391/391 [00:44<00:00,  8.69it/s, acc=85.7, loss=0.817]\n"
          ]
        },
        {
          "output_type": "stream",
          "name": "stdout",
          "text": [
            "Test Loss:0.9182 Test Acc:82.08%\n"
          ]
        },
        {
          "output_type": "stream",
          "name": "stderr",
          "text": [
            "Epoch [41/50]: 100%|██████████| 391/391 [00:44<00:00,  8.69it/s, acc=86.2, loss=0.805]\n"
          ]
        },
        {
          "output_type": "stream",
          "name": "stdout",
          "text": [
            "Test Loss:0.9349 Test Acc:81.39%\n"
          ]
        },
        {
          "output_type": "stream",
          "name": "stderr",
          "text": [
            "Epoch [42/50]: 100%|██████████| 391/391 [00:44<00:00,  8.69it/s, acc=86.5, loss=0.797]\n"
          ]
        },
        {
          "output_type": "stream",
          "name": "stdout",
          "text": [
            "Test Loss:0.9233 Test Acc:82.34%\n"
          ]
        },
        {
          "output_type": "stream",
          "name": "stderr",
          "text": [
            "Epoch [43/50]: 100%|██████████| 391/391 [00:44<00:00,  8.80it/s, acc=87, loss=0.791]\n"
          ]
        },
        {
          "output_type": "stream",
          "name": "stdout",
          "text": [
            "Test Loss:0.9502 Test Acc:81.17%\n"
          ]
        },
        {
          "output_type": "stream",
          "name": "stderr",
          "text": [
            "Epoch [44/50]: 100%|██████████| 391/391 [00:45<00:00,  8.61it/s, acc=87.1, loss=0.784]\n"
          ]
        },
        {
          "output_type": "stream",
          "name": "stdout",
          "text": [
            "Test Loss:0.9506 Test Acc:81.08%\n"
          ]
        },
        {
          "output_type": "stream",
          "name": "stderr",
          "text": [
            "Epoch [45/50]: 100%|██████████| 391/391 [00:44<00:00,  8.73it/s, acc=87.6, loss=0.775]\n"
          ]
        },
        {
          "output_type": "stream",
          "name": "stdout",
          "text": [
            "Test Loss:0.9466 Test Acc:81.45%\n"
          ]
        },
        {
          "output_type": "stream",
          "name": "stderr",
          "text": [
            "Epoch [46/50]: 100%|██████████| 391/391 [00:44<00:00,  8.84it/s, acc=87.9, loss=0.769]\n"
          ]
        },
        {
          "output_type": "stream",
          "name": "stdout",
          "text": [
            "Test Loss:0.9525 Test Acc:81.18%\n"
          ]
        },
        {
          "output_type": "stream",
          "name": "stderr",
          "text": [
            "Epoch [47/50]: 100%|██████████| 391/391 [00:44<00:00,  8.74it/s, acc=88.5, loss=0.758]\n"
          ]
        },
        {
          "output_type": "stream",
          "name": "stdout",
          "text": [
            "Test Loss:0.9203 Test Acc:82.73%\n"
          ]
        },
        {
          "output_type": "stream",
          "name": "stderr",
          "text": [
            "Epoch [48/50]: 100%|██████████| 391/391 [00:46<00:00,  8.47it/s, acc=88.5, loss=0.755]\n"
          ]
        },
        {
          "output_type": "stream",
          "name": "stdout",
          "text": [
            "Test Loss:0.9242 Test Acc:82.56%\n"
          ]
        },
        {
          "output_type": "stream",
          "name": "stderr",
          "text": [
            "Epoch [49/50]: 100%|██████████| 391/391 [00:44<00:00,  8.79it/s, acc=88.9, loss=0.747]\n"
          ]
        },
        {
          "output_type": "stream",
          "name": "stdout",
          "text": [
            "Test Loss:0.9354 Test Acc:82.38%\n"
          ]
        },
        {
          "output_type": "stream",
          "name": "stderr",
          "text": [
            "Epoch [50/50]: 100%|██████████| 391/391 [00:44<00:00,  8.81it/s, acc=89, loss=0.745]\n"
          ]
        },
        {
          "output_type": "stream",
          "name": "stdout",
          "text": [
            "Test Loss:0.9368 Test Acc:82.45%\n"
          ]
        }
      ]
    },
    {
      "cell_type": "code",
      "source": [],
      "metadata": {
        "id": "vmdd5rtmKJ9r"
      },
      "execution_count": null,
      "outputs": []
    }
  ]
}
